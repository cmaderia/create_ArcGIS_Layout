{
 "cells": [
  {
   "cell_type": "code",
   "execution_count": null,
   "id": "c7d6c794-2d9c-49bf-b68f-d00f07409fd9",
   "metadata": {},
   "outputs": [],
   "source": [
    "# USER: create the starting maps for each scenario"
   ]
  },
  {
   "cell_type": "code",
   "execution_count": null,
   "id": "05d62b5b-63cf-4dc2-acb1-63fc2024165a",
   "metadata": {},
   "outputs": [],
   "source": [
    "import arcpy\n",
    "# Get the project\n",
    "aprx = arcpy.mp.ArcGISProject('CURRENT')"
   ]
  },
  {
   "cell_type": "code",
   "execution_count": null,
   "id": "8fef2378-2e59-41c7-bee8-40f9a158fc82",
   "metadata": {},
   "outputs": [],
   "source": [
    "# common vars (change according to project file)\n",
    "lyr_to_change = ['FC_Result_COC']  # this is the only layer that changes\n",
    "\n",
    "prefix = 'CWK'\n",
    "suffix = ''"
   ]
  },
  {
   "cell_type": "code",
   "execution_count": null,
   "id": "641d2bbb-3f1e-4bef-91bd-6542283811f0",
   "metadata": {},
   "outputs": [],
   "source": [
    "# these are the maps that the others will be modeled after (USER creates these)\n",
    "# NOTE: don't forget to create the Sediment map template for Soil/Sediment (ug/kg)\n",
    "# also, you don't need to create \"PFOS GW\", just \"PFOA GW\"\n",
    "\n",
    "list_of_start_maps = ['CWK_PFOA_Nearsite_GW', 'CWK_PFNA_Nearsite_GW', 'CWK_PFNA_Nearsite_GW', \\\n",
    "                      'CWK_PFNA_Nearsite_Soil']"
   ]
  },
  {
   "cell_type": "code",
   "execution_count": null,
   "id": "05e4a8d8-161a-4197-878a-9d2cc36c1fbd",
   "metadata": {},
   "outputs": [],
   "source": [
    "# Loops through and runs once for each of these:\n",
    "list_of_param_lists  = [['PFOA', 'PFOS'], ['PFOA', 'PFOS'], \\\n",
    "                        ['PFNA', 'PFHxS', 'PFBS', 'HFPO-DA'], \\\n",
    "                        ['PFOA', 'PFOS', 'PFNA', 'PFHxS', 'PFBS', 'HFPO-DA']]"
   ]
  },
  {
   "cell_type": "code",
   "execution_count": null,
   "id": "5ca0df4d-cad2-4dee-b6b8-25850efe51fa",
   "metadata": {},
   "outputs": [],
   "source": [
    "# Loops through and runs once for each of these:\n",
    "list_of_sample_dicts = [{'DW':'Drinking water', 'GW':'Groundwater'}, \\\n",
    "                        {'SW':'Surface Water', 'WW':'Wastewater'}, \\\n",
    "                        {'DW':'Drinking water', 'GW':'Groundwater', 'SW':'Surface Water', 'WW':'Wastewater'}, \\\n",
    "                        {'Sediment':'Sediment', 'Soil':'Soil'}]"
   ]
  },
  {
   "cell_type": "code",
   "execution_count": null,
   "id": "a2eef602-e9dd-4af9-b42b-dd1dae417624",
   "metadata": {},
   "outputs": [],
   "source": [
    "# Copy STARTING map and add it to the project\n",
    "for i in range(len(list_of_param_lists)):\n",
    "    print(i)\n",
    "    starting_map_name = list_of_start_maps[i]\n",
    "    param_list = list_of_param_lists[i]\n",
    "    sample_dict = list_of_sample_dicts[i]\n",
    "    \n",
    "    map_to_copy = aprx.listMaps(starting_map_name)[0]\n",
    "    layout_to_copy = aprx.listLayouts(starting_map_name)[0]\n",
    "    \n",
    "    # loop through the parameters and sample types, and generate new maps\n",
    "    for p in param_list:\n",
    "        for s in list(sample_dict.keys()):\n",
    "            newmap_name = f'{prefix}_{p}_{suffix}_{s}'\n",
    "            \n",
    "            if starting_map_name != newmap_name:\n",
    "                # create copies of map and layout with new names\n",
    "                aprx.copyItem(map_to_copy, newmap_name)\n",
    "                aprx.copyItem(layout_to_copy, newmap_name)\n",
    "                newmap = aprx.listMaps(newmap_name)[0]\n",
    "                # definition query\n",
    "                for lyr in newmap.listLayers(lyr_to_change):\n",
    "                    lyr.definitionQuery = f\"sample_type = '{sample_dict[s].title()}' and parameter_name = '{p}'\"\n",
    "                # set Layout\n",
    "                newlayout = aprx.listLayouts(newmap_name)[0]\n",
    "                mf = newlayout.listElements('mapframe_element')[0]\n",
    "                mf.map = newmap\n",
    "                # edit title\n",
    "                title = newlayout.listElements('text_element', 'Title')[0]\n",
    "                title.text = f'{p} {sample_dict[s].title()} \\n{suffix}'"
   ]
  },
  {
   "cell_type": "code",
   "execution_count": null,
   "id": "a7660402-d12b-4ea8-8b0a-567828b35299",
   "metadata": {},
   "outputs": [],
   "source": []
  }
 ],
 "metadata": {
  "kernelspec": {
   "display_name": "Python 3 (ipykernel)",
   "language": "python",
   "name": "python3"
  },
  "language_info": {
   "codemirror_mode": {
    "name": "ipython",
    "version": 3
   },
   "file_extension": ".py",
   "mimetype": "text/x-python",
   "name": "python",
   "nbconvert_exporter": "python",
   "pygments_lexer": "ipython3",
   "version": "3.11.7"
  }
 },
 "nbformat": 4,
 "nbformat_minor": 5
}
